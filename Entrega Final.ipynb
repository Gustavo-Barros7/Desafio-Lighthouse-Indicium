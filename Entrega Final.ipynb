{
 "cells": [
  {
   "cell_type": "code",
   "execution_count": 77,
   "id": "cc2ad1d2",
   "metadata": {},
   "outputs": [],
   "source": [
    "#importnado bibliotecas que foram usadas\n",
    "import pandas as pd\n",
    "import statsmodels.api as sm\n",
    "from statsmodels.formula.api import ols\n",
    "import numpy as np\n",
    "import seaborn as sns\n",
    "import matplotlib.pyplot as plt\n",
    "from   sklearn.linear_model import LinearRegression\n",
    "from   sklearn.metrics import r2_score\n",
    "\n",
    "import scipy.stats as stats"
   ]
  },
  {
   "cell_type": "code",
   "execution_count": 78,
   "id": "dcc2e6f3",
   "metadata": {
    "scrolled": false
   },
   "outputs": [],
   "source": [
    "#adicionando a base de dados utilizados no programa para fazer a regressão\n",
    "\n",
    "dados_df = pd.read_excel(\"Base de Dados Adap.xlsx\")\n",
    "dados = pd.read_excel(\"wage_train.xlsx\")\n"
   ]
  },
  {
   "cell_type": "code",
   "execution_count": 79,
   "id": "e81c6886",
   "metadata": {},
   "outputs": [
    {
     "data": {
      "text/html": [
       "<div>\n",
       "<style scoped>\n",
       "    .dataframe tbody tr th:only-of-type {\n",
       "        vertical-align: middle;\n",
       "    }\n",
       "\n",
       "    .dataframe tbody tr th {\n",
       "        vertical-align: top;\n",
       "    }\n",
       "\n",
       "    .dataframe thead th {\n",
       "        text-align: right;\n",
       "    }\n",
       "</style>\n",
       "<table border=\"1\" class=\"dataframe\">\n",
       "  <thead>\n",
       "    <tr style=\"text-align: right;\">\n",
       "      <th></th>\n",
       "      <th>Index</th>\n",
       "      <th>age</th>\n",
       "      <th>fnlwgt</th>\n",
       "      <th>education_num</th>\n",
       "      <th>capital_gain</th>\n",
       "      <th>capital_loss</th>\n",
       "      <th>hours_per_week</th>\n",
       "    </tr>\n",
       "  </thead>\n",
       "  <tbody>\n",
       "    <tr>\n",
       "      <th>count</th>\n",
       "      <td>32560.000000</td>\n",
       "      <td>32560.000000</td>\n",
       "      <td>3.256000e+04</td>\n",
       "      <td>32560.000000</td>\n",
       "      <td>32560.000000</td>\n",
       "      <td>32560.000000</td>\n",
       "      <td>32560.000000</td>\n",
       "    </tr>\n",
       "    <tr>\n",
       "      <th>mean</th>\n",
       "      <td>16279.500000</td>\n",
       "      <td>38.581634</td>\n",
       "      <td>1.897818e+05</td>\n",
       "      <td>10.080590</td>\n",
       "      <td>1077.615172</td>\n",
       "      <td>87.306511</td>\n",
       "      <td>40.437469</td>\n",
       "    </tr>\n",
       "    <tr>\n",
       "      <th>std</th>\n",
       "      <td>9399.406719</td>\n",
       "      <td>13.640642</td>\n",
       "      <td>1.055498e+05</td>\n",
       "      <td>2.572709</td>\n",
       "      <td>7385.402999</td>\n",
       "      <td>402.966116</td>\n",
       "      <td>12.347618</td>\n",
       "    </tr>\n",
       "    <tr>\n",
       "      <th>min</th>\n",
       "      <td>0.000000</td>\n",
       "      <td>17.000000</td>\n",
       "      <td>1.228500e+04</td>\n",
       "      <td>1.000000</td>\n",
       "      <td>0.000000</td>\n",
       "      <td>0.000000</td>\n",
       "      <td>1.000000</td>\n",
       "    </tr>\n",
       "    <tr>\n",
       "      <th>25%</th>\n",
       "      <td>8139.750000</td>\n",
       "      <td>28.000000</td>\n",
       "      <td>1.178315e+05</td>\n",
       "      <td>9.000000</td>\n",
       "      <td>0.000000</td>\n",
       "      <td>0.000000</td>\n",
       "      <td>40.000000</td>\n",
       "    </tr>\n",
       "    <tr>\n",
       "      <th>50%</th>\n",
       "      <td>16279.500000</td>\n",
       "      <td>37.000000</td>\n",
       "      <td>1.783630e+05</td>\n",
       "      <td>10.000000</td>\n",
       "      <td>0.000000</td>\n",
       "      <td>0.000000</td>\n",
       "      <td>40.000000</td>\n",
       "    </tr>\n",
       "    <tr>\n",
       "      <th>75%</th>\n",
       "      <td>24419.250000</td>\n",
       "      <td>48.000000</td>\n",
       "      <td>2.370545e+05</td>\n",
       "      <td>12.000000</td>\n",
       "      <td>0.000000</td>\n",
       "      <td>0.000000</td>\n",
       "      <td>45.000000</td>\n",
       "    </tr>\n",
       "    <tr>\n",
       "      <th>max</th>\n",
       "      <td>32559.000000</td>\n",
       "      <td>90.000000</td>\n",
       "      <td>1.484705e+06</td>\n",
       "      <td>16.000000</td>\n",
       "      <td>99999.000000</td>\n",
       "      <td>4356.000000</td>\n",
       "      <td>99.000000</td>\n",
       "    </tr>\n",
       "  </tbody>\n",
       "</table>\n",
       "</div>"
      ],
      "text/plain": [
       "              Index           age        fnlwgt  education_num  capital_gain  \\\n",
       "count  32560.000000  32560.000000  3.256000e+04   32560.000000  32560.000000   \n",
       "mean   16279.500000     38.581634  1.897818e+05      10.080590   1077.615172   \n",
       "std     9399.406719     13.640642  1.055498e+05       2.572709   7385.402999   \n",
       "min        0.000000     17.000000  1.228500e+04       1.000000      0.000000   \n",
       "25%     8139.750000     28.000000  1.178315e+05       9.000000      0.000000   \n",
       "50%    16279.500000     37.000000  1.783630e+05      10.000000      0.000000   \n",
       "75%    24419.250000     48.000000  2.370545e+05      12.000000      0.000000   \n",
       "max    32559.000000     90.000000  1.484705e+06      16.000000  99999.000000   \n",
       "\n",
       "       capital_loss  hours_per_week  \n",
       "count  32560.000000    32560.000000  \n",
       "mean      87.306511       40.437469  \n",
       "std      402.966116       12.347618  \n",
       "min        0.000000        1.000000  \n",
       "25%        0.000000       40.000000  \n",
       "50%        0.000000       40.000000  \n",
       "75%        0.000000       45.000000  \n",
       "max     4356.000000       99.000000  "
      ]
     },
     "execution_count": 79,
     "metadata": {},
     "output_type": "execute_result"
    }
   ],
   "source": [
    "#Rodando as estatisticas descritivas de todos os dados\n",
    "dados.describe()"
   ]
  },
  {
   "cell_type": "code",
   "execution_count": 80,
   "id": "6d07955f",
   "metadata": {},
   "outputs": [
    {
     "data": {
      "text/plain": [
       "(32560, 16)"
      ]
     },
     "execution_count": 80,
     "metadata": {},
     "output_type": "execute_result"
    }
   ],
   "source": [
    "#apresentado o shape dos dados\n",
    "dados.shape"
   ]
  },
  {
   "cell_type": "code",
   "execution_count": 81,
   "id": "a967cb58",
   "metadata": {},
   "outputs": [
    {
     "data": {
      "text/plain": [
       " United-States                 29169\n",
       " Mexico                          643\n",
       " ?                               583\n",
       " Philippines                     198\n",
       " Germany                         137\n",
       " Canada                          121\n",
       " Puerto-Rico                     114\n",
       " El-Salvador                     106\n",
       " India                           100\n",
       " Cuba                             95\n",
       " England                          90\n",
       " Jamaica                          81\n",
       " South                            80\n",
       " China                            75\n",
       " Italy                            73\n",
       " Dominican-Republic               70\n",
       " Vietnam                          67\n",
       " Guatemala                        64\n",
       " Japan                            62\n",
       " Poland                           60\n",
       " Columbia                         59\n",
       " Taiwan                           51\n",
       " Haiti                            44\n",
       " Iran                             43\n",
       " Portugal                         37\n",
       " Nicaragua                        34\n",
       " Peru                             31\n",
       " France                           29\n",
       " Greece                           29\n",
       " Ecuador                          28\n",
       " Ireland                          24\n",
       " Hong                             20\n",
       " Cambodia                         19\n",
       " Trinadad&Tobago                  19\n",
       " Laos                             18\n",
       " Thailand                         18\n",
       " Yugoslavia                       16\n",
       " Outlying-US(Guam-USVI-etc)       14\n",
       " Honduras                         13\n",
       " Hungary                          13\n",
       " Scotland                         12\n",
       " Holand-Netherlands                1\n",
       "Name: native_country, dtype: int64"
      ]
     },
     "execution_count": 81,
     "metadata": {},
     "output_type": "execute_result"
    }
   ],
   "source": [
    "#listando as frequencias de aparições dos países\n",
    "dados[\"native_country\"].value_counts()"
   ]
  },
  {
   "cell_type": "code",
   "execution_count": 82,
   "id": "b8e7b899",
   "metadata": {},
   "outputs": [
    {
     "data": {
      "text/plain": [
       "<AxesSubplot:>"
      ]
     },
     "execution_count": 82,
     "metadata": {},
     "output_type": "execute_result"
    },
    {
     "data": {
      "image/png": "[encoded data removed]",
      "text/plain": [
       "<Figure size 432x288 with 1 Axes>"
      ]
     },
     "metadata": {
      "needs_background": "light"
     },
     "output_type": "display_data"
    }
   ],
   "source": [
    "#criando um plot para a distribuição das 30 idades mais frequentes\n",
    "dados[\"age\"].value_counts()[:30].plot(kind=\"bar\")"
   ]
  },
  {
   "cell_type": "code",
   "execution_count": 83,
   "id": "922335b1",
   "metadata": {},
   "outputs": [
    {
     "data": {
      "text/plain": [
       "<AxesSubplot:>"
      ]
     },
     "execution_count": 83,
     "metadata": {},
     "output_type": "execute_result"
    },
    {
     "data": {
      "image/png": "[encoded data removed]",
      "text/plain": [
       "<Figure size 432x288 with 1 Axes>"
      ]
     },
     "metadata": {
      "needs_background": "light"
     },
     "output_type": "display_data"
    }
   ],
   "source": [
    "#criando um plot das distrbuições dos sexos\n",
    "dados[\"sex\"].value_counts().plot(kind=\"bar\")"
   ]
  },
  {
   "cell_type": "code",
   "execution_count": 94,
   "id": "189d58e8",
   "metadata": {},
   "outputs": [
    {
     "data": {
      "text/plain": [
       "<AxesSubplot:>"
      ]
     },
     "execution_count": 94,
     "metadata": {},
     "output_type": "execute_result"
    },
    {
     "data": {
      "image/png": "[encoded data removed]",
      "text/plain": [
       "<Figure size 432x288 with 1 Axes>"
      ]
     },
     "metadata": {
      "needs_background": "light"
     },
     "output_type": "display_data"
    }
   ],
   "source": [
    "#criando um plot das distrbuições das \"raças\" ou etnias da pesquisa\n",
    "dados[\"race\"].value_counts().plot(kind=\"bar\")"
   ]
  },
  {
   "cell_type": "code",
   "execution_count": 84,
   "id": "960d9cfa",
   "metadata": {},
   "outputs": [
    {
     "data": {
      "text/plain": [
       "<AxesSubplot:>"
      ]
     },
     "execution_count": 84,
     "metadata": {},
     "output_type": "execute_result"
    },
    {
     "data": {
      "image/png": "[encoded data removed]",
      "text/plain": [
       "<Figure size 432x288 with 1 Axes>"
      ]
     },
     "metadata": {
      "needs_background": "light"
     },
     "output_type": "display_data"
    }
   ],
   "source": [
    "#criando um plot das educações\n",
    "dados[\"education\"].value_counts().plot(kind=\"bar\")"
   ]
  },
  {
   "cell_type": "code",
   "execution_count": 85,
   "id": "5228b4f7",
   "metadata": {},
   "outputs": [
    {
     "data": {
      "text/plain": [
       "<AxesSubplot:>"
      ]
     },
     "execution_count": 85,
     "metadata": {},
     "output_type": "execute_result"
    },
    {
     "data": {
      "image/png": "[encoded data removed]",
      "text/plain": [
       "<Figure size 432x288 with 1 Axes>"
      ]
     },
     "metadata": {
      "needs_background": "light"
     },
     "output_type": "display_data"
    }
   ],
   "source": [
    "#Criando um plot das ocupações\n",
    "dados[\"occupation\"].value_counts().plot(kind=\"bar\")"
   ]
  },
  {
   "cell_type": "code",
   "execution_count": 86,
   "id": "dcf30db6",
   "metadata": {},
   "outputs": [],
   "source": [
    "#definindo y para simplificar a escrita, que é a variável independente e tirando a coluna Index, que é o número de linhas\n",
    "#E retirando o Yealy-wage pois ele não entra na regressão como variável independente (ele é a variável dependente)\n",
    "Y = 'yearly_wage'\n",
    "\n",
    "dados_df_X = dados_df.drop([Y,'Index'],axis=1)\n",
    "dados_df_X = sm.add_constant(dados_df_X)\n"
   ]
  },
  {
   "cell_type": "code",
   "execution_count": 87,
   "id": "975d5022",
   "metadata": {},
   "outputs": [
    {
     "name": "stdout",
     "output_type": "stream",
     "text": [
      "                            OLS Regression Results                            \n",
      "==============================================================================\n",
      "Dep. Variable:            yearly_wage   R-squared:                       0.342\n",
      "Model:                            OLS   Adj. R-squared:                  0.342\n",
      "Method:                 Least Squares   F-statistic:                     1236.\n",
      "Date:                Sat, 23 Jul 2022   Prob (F-statistic):               0.00\n",
      "Time:                        17:17:34   Log-Likelihood:                -11401.\n",
      "No. Observations:               30724   AIC:                         2.283e+04\n",
      "Df Residuals:                   30709   BIC:                         2.296e+04\n",
      "Df Model:                          14                                         \n",
      "Covariance Type:                  HC1                                         \n",
      "==================================================================================\n",
      "                     coef    std err          z      P>|z|      [0.025      0.975]\n",
      "----------------------------------------------------------------------------------\n",
      "const             -0.5836      0.012    -50.561      0.000      -0.606      -0.561\n",
      "age                0.0037      0.000     21.337      0.000       0.003       0.004\n",
      "workclass         -0.0122      0.003     -3.584      0.000      -0.019      -0.006\n",
      "fnlwgt          8.782e-08   1.88e-08      4.671      0.000     5.1e-08    1.25e-07\n",
      "education         -0.0104      0.004     -2.791      0.005      -0.018      -0.003\n",
      "education_num      0.0416      0.001     39.661      0.000       0.040       0.044\n",
      "marital_status     0.2516      0.006     45.432      0.000       0.241       0.262\n",
      "occupation         0.0755      0.004     18.605      0.000       0.068       0.083\n",
      "relationship      -0.0455      0.004    -11.229      0.000      -0.053      -0.038\n",
      "race              -0.0267      0.005     -5.182      0.000      -0.037      -0.017\n",
      "sex               -0.0272      0.004     -6.263      0.000      -0.036      -0.019\n",
      "capital_gain    8.349e-06   3.25e-07     25.702      0.000    7.71e-06    8.99e-06\n",
      "capital_loss       0.0001   5.59e-06     17.988      0.000    8.97e-05       0.000\n",
      "hours_per_week     0.0030      0.000     16.388      0.000       0.003       0.003\n",
      "native_country    -0.0160      0.006     -2.870      0.004      -0.027      -0.005\n",
      "==============================================================================\n",
      "Omnibus:                     1607.769   Durbin-Watson:                   2.001\n",
      "Prob(Omnibus):                  0.000   Jarque-Bera (JB):             1695.242\n",
      "Skew:                           0.544   Prob(JB):                         0.00\n",
      "Kurtosis:                       2.627   Cond. No.                     1.39e+06\n",
      "==============================================================================\n",
      "\n",
      "Notes:\n",
      "[1] Standard Errors are heteroscedasticity robust (HC1)\n",
      "[2] The condition number is large, 1.39e+06. This might indicate that there are\n",
      "strong multicollinearity or other numerical problems.\n"
     ]
    }
   ],
   "source": [
    "#Rodando a regressão com minimos quadrados ordinários\n",
    "\n",
    "modelo = sm.OLS(dados_df[Y],dados_df_X)\n",
    "res = modelo.fit(cov_type='HC1')\n",
    "print(res.summary())\n"
   ]
  },
  {
   "cell_type": "code",
   "execution_count": 88,
   "id": "37501181",
   "metadata": {},
   "outputs": [],
   "source": [
    "#Salvando os coeficientes encontrados na regressão\n",
    "coef = res.params\n",
    "\n",
    "#criando um valor para a constante\n",
    "const = coef['const']\n",
    "#retirando a constante do vetor de coeficientes\n",
    "coef = coef.drop('const',axis=0)\n",
    "\n"
   ]
  },
  {
   "cell_type": "code",
   "execution_count": 89,
   "id": "b94520f0",
   "metadata": {},
   "outputs": [
    {
     "data": {
      "text/html": [
       "<div>\n",
       "<style scoped>\n",
       "    .dataframe tbody tr th:only-of-type {\n",
       "        vertical-align: middle;\n",
       "    }\n",
       "\n",
       "    .dataframe tbody tr th {\n",
       "        vertical-align: top;\n",
       "    }\n",
       "\n",
       "    .dataframe thead th {\n",
       "        text-align: right;\n",
       "    }\n",
       "</style>\n",
       "<table border=\"1\" class=\"dataframe\">\n",
       "  <thead>\n",
       "    <tr style=\"text-align: right;\">\n",
       "      <th></th>\n",
       "      <th>age</th>\n",
       "      <th>workclass</th>\n",
       "      <th>fnlwgt</th>\n",
       "      <th>education</th>\n",
       "      <th>education_num</th>\n",
       "      <th>marital_status</th>\n",
       "      <th>occupation</th>\n",
       "      <th>relationship</th>\n",
       "      <th>race</th>\n",
       "      <th>sex</th>\n",
       "      <th>capital_gain</th>\n",
       "      <th>capital_loss</th>\n",
       "      <th>hours_per_week</th>\n",
       "      <th>native_country</th>\n",
       "    </tr>\n",
       "  </thead>\n",
       "  <tbody>\n",
       "    <tr>\n",
       "      <th>0</th>\n",
       "      <td>38</td>\n",
       "      <td>0</td>\n",
       "      <td>89814</td>\n",
       "      <td>1</td>\n",
       "      <td>9</td>\n",
       "      <td>1</td>\n",
       "      <td>0</td>\n",
       "      <td>0</td>\n",
       "      <td>0</td>\n",
       "      <td>0</td>\n",
       "      <td>0</td>\n",
       "      <td>0</td>\n",
       "      <td>50</td>\n",
       "      <td>0</td>\n",
       "    </tr>\n",
       "    <tr>\n",
       "      <th>1</th>\n",
       "      <td>28</td>\n",
       "      <td>1</td>\n",
       "      <td>336951</td>\n",
       "      <td>1</td>\n",
       "      <td>12</td>\n",
       "      <td>1</td>\n",
       "      <td>2</td>\n",
       "      <td>0</td>\n",
       "      <td>0</td>\n",
       "      <td>0</td>\n",
       "      <td>0</td>\n",
       "      <td>0</td>\n",
       "      <td>40</td>\n",
       "      <td>0</td>\n",
       "    </tr>\n",
       "    <tr>\n",
       "      <th>2</th>\n",
       "      <td>44</td>\n",
       "      <td>0</td>\n",
       "      <td>160323</td>\n",
       "      <td>2</td>\n",
       "      <td>10</td>\n",
       "      <td>1</td>\n",
       "      <td>1</td>\n",
       "      <td>0</td>\n",
       "      <td>1</td>\n",
       "      <td>0</td>\n",
       "      <td>7688</td>\n",
       "      <td>0</td>\n",
       "      <td>40</td>\n",
       "      <td>0</td>\n",
       "    </tr>\n",
       "    <tr>\n",
       "      <th>3</th>\n",
       "      <td>18</td>\n",
       "      <td>1</td>\n",
       "      <td>103497</td>\n",
       "      <td>2</td>\n",
       "      <td>10</td>\n",
       "      <td>0</td>\n",
       "      <td>1</td>\n",
       "      <td>0</td>\n",
       "      <td>0</td>\n",
       "      <td>1</td>\n",
       "      <td>0</td>\n",
       "      <td>0</td>\n",
       "      <td>30</td>\n",
       "      <td>0</td>\n",
       "    </tr>\n",
       "    <tr>\n",
       "      <th>4</th>\n",
       "      <td>34</td>\n",
       "      <td>0</td>\n",
       "      <td>198693</td>\n",
       "      <td>0</td>\n",
       "      <td>6</td>\n",
       "      <td>0</td>\n",
       "      <td>0</td>\n",
       "      <td>1</td>\n",
       "      <td>0</td>\n",
       "      <td>0</td>\n",
       "      <td>0</td>\n",
       "      <td>0</td>\n",
       "      <td>30</td>\n",
       "      <td>0</td>\n",
       "    </tr>\n",
       "    <tr>\n",
       "      <th>...</th>\n",
       "      <td>...</td>\n",
       "      <td>...</td>\n",
       "      <td>...</td>\n",
       "      <td>...</td>\n",
       "      <td>...</td>\n",
       "      <td>...</td>\n",
       "      <td>...</td>\n",
       "      <td>...</td>\n",
       "      <td>...</td>\n",
       "      <td>...</td>\n",
       "      <td>...</td>\n",
       "      <td>...</td>\n",
       "      <td>...</td>\n",
       "      <td>...</td>\n",
       "    </tr>\n",
       "    <tr>\n",
       "      <th>16275</th>\n",
       "      <td>39</td>\n",
       "      <td>0</td>\n",
       "      <td>215419</td>\n",
       "      <td>1</td>\n",
       "      <td>13</td>\n",
       "      <td>0</td>\n",
       "      <td>1</td>\n",
       "      <td>1</td>\n",
       "      <td>0</td>\n",
       "      <td>1</td>\n",
       "      <td>0</td>\n",
       "      <td>0</td>\n",
       "      <td>36</td>\n",
       "      <td>0</td>\n",
       "    </tr>\n",
       "    <tr>\n",
       "      <th>16276</th>\n",
       "      <td>64</td>\n",
       "      <td>1</td>\n",
       "      <td>321403</td>\n",
       "      <td>1</td>\n",
       "      <td>9</td>\n",
       "      <td>0</td>\n",
       "      <td>1</td>\n",
       "      <td>0</td>\n",
       "      <td>1</td>\n",
       "      <td>0</td>\n",
       "      <td>0</td>\n",
       "      <td>0</td>\n",
       "      <td>40</td>\n",
       "      <td>0</td>\n",
       "    </tr>\n",
       "    <tr>\n",
       "      <th>16277</th>\n",
       "      <td>38</td>\n",
       "      <td>0</td>\n",
       "      <td>374983</td>\n",
       "      <td>1</td>\n",
       "      <td>13</td>\n",
       "      <td>1</td>\n",
       "      <td>1</td>\n",
       "      <td>0</td>\n",
       "      <td>0</td>\n",
       "      <td>0</td>\n",
       "      <td>0</td>\n",
       "      <td>0</td>\n",
       "      <td>50</td>\n",
       "      <td>0</td>\n",
       "    </tr>\n",
       "    <tr>\n",
       "      <th>16278</th>\n",
       "      <td>44</td>\n",
       "      <td>0</td>\n",
       "      <td>83891</td>\n",
       "      <td>1</td>\n",
       "      <td>13</td>\n",
       "      <td>0</td>\n",
       "      <td>0</td>\n",
       "      <td>0</td>\n",
       "      <td>1</td>\n",
       "      <td>0</td>\n",
       "      <td>5455</td>\n",
       "      <td>0</td>\n",
       "      <td>40</td>\n",
       "      <td>0</td>\n",
       "    </tr>\n",
       "    <tr>\n",
       "      <th>16279</th>\n",
       "      <td>35</td>\n",
       "      <td>2</td>\n",
       "      <td>182148</td>\n",
       "      <td>1</td>\n",
       "      <td>13</td>\n",
       "      <td>1</td>\n",
       "      <td>1</td>\n",
       "      <td>0</td>\n",
       "      <td>0</td>\n",
       "      <td>0</td>\n",
       "      <td>0</td>\n",
       "      <td>0</td>\n",
       "      <td>60</td>\n",
       "      <td>0</td>\n",
       "    </tr>\n",
       "  </tbody>\n",
       "</table>\n",
       "<p>16280 rows × 14 columns</p>\n",
       "</div>"
      ],
      "text/plain": [
       "       age  workclass  fnlwgt  education  education_num  marital_status  \\\n",
       "0       38          0   89814          1              9               1   \n",
       "1       28          1  336951          1             12               1   \n",
       "2       44          0  160323          2             10               1   \n",
       "3       18          1  103497          2             10               0   \n",
       "4       34          0  198693          0              6               0   \n",
       "...    ...        ...     ...        ...            ...             ...   \n",
       "16275   39          0  215419          1             13               0   \n",
       "16276   64          1  321403          1              9               0   \n",
       "16277   38          0  374983          1             13               1   \n",
       "16278   44          0   83891          1             13               0   \n",
       "16279   35          2  182148          1             13               1   \n",
       "\n",
       "       occupation  relationship  race  sex  capital_gain  capital_loss  \\\n",
       "0               0             0     0    0             0             0   \n",
       "1               2             0     0    0             0             0   \n",
       "2               1             0     1    0          7688             0   \n",
       "3               1             0     0    1             0             0   \n",
       "4               0             1     0    0             0             0   \n",
       "...           ...           ...   ...  ...           ...           ...   \n",
       "16275           1             1     0    1             0             0   \n",
       "16276           1             0     1    0             0             0   \n",
       "16277           1             0     0    0             0             0   \n",
       "16278           0             0     1    0          5455             0   \n",
       "16279           1             0     0    0             0             0   \n",
       "\n",
       "       hours_per_week  native_country  \n",
       "0                  50               0  \n",
       "1                  40               0  \n",
       "2                  40               0  \n",
       "3                  30               0  \n",
       "4                  30               0  \n",
       "...               ...             ...  \n",
       "16275              36               0  \n",
       "16276              40               0  \n",
       "16277              50               0  \n",
       "16278              40               0  \n",
       "16279              60               0  \n",
       "\n",
       "[16280 rows x 14 columns]"
      ]
     },
     "metadata": {},
     "output_type": "display_data"
    }
   ],
   "source": [
    "#adicionando o arquivo para realizar a previsão.\n",
    "prev = pd.read_excel(\"wage_test.xlsx\")\n",
    "display(prev)"
   ]
  },
  {
   "cell_type": "code",
   "execution_count": 90,
   "id": "5f0a1c2a",
   "metadata": {},
   "outputs": [
    {
     "data": {
      "text/plain": [
       "0        0.912470\n",
       "1        1.131249\n",
       "2        1.054696\n",
       "3        0.596216\n",
       "4        0.435827\n",
       "           ...   \n",
       "16275    0.802711\n",
       "16276    0.782674\n",
       "16277    1.179454\n",
       "16278    0.837454\n",
       "16279    1.157148\n",
       "Length: 16280, dtype: float64"
      ]
     },
     "metadata": {},
     "output_type": "display_data"
    }
   ],
   "source": [
    "#multiplicando os dados pelos coeficientes e depois somando para chegar em um valor abaixo ou acima de 1\n",
    "Y1 = prev * coef\n",
    "soma = Y1.sum(axis=1) \n",
    "display(soma)\n",
    "\n"
   ]
  },
  {
   "cell_type": "code",
   "execution_count": 91,
   "id": "81746aa4",
   "metadata": {},
   "outputs": [
    {
     "data": {
      "text/plain": [
       "0         <=50K\n",
       "1          >50K\n",
       "2          >50K\n",
       "3         <=50K\n",
       "4         <=50K\n",
       "          ...  \n",
       "16275     <=50K\n",
       "16276     <=50K\n",
       "16277      >50K\n",
       "16278     <=50K\n",
       "16279      >50K\n",
       "Length: 16280, dtype: object"
      ]
     },
     "metadata": {},
     "output_type": "display_data"
    }
   ],
   "source": [
    "#Transformando os dados abaixo ou igual a 1, em <=50K e os acima em >50K finalizando a Previsão que foi pedido\n",
    "a = \" <=50K\"\n",
    "b =  \">50K\"\n",
    "\n",
    "for i in range(16280):\n",
    "    if soma[i] <= 1:\n",
    "        soma[i] = a\n",
    "    else:\n",
    "        soma[i] = b\n",
    "display(soma)"
   ]
  },
  {
   "cell_type": "code",
   "execution_count": 92,
   "id": "10bd5af6",
   "metadata": {},
   "outputs": [],
   "source": [
    "#Baixando os dado em Excel, está comentado pois os dados já estão no repositório entregue.\n",
    "#soma.to_excel('Resultado Final.xlsx')"
   ]
  }
 ],
 "metadata": {
  "kernelspec": {
   "display_name": "Python 3 (ipykernel)",
   "language": "python",
   "name": "python3"
  },
  "language_info": {
   "codemirror_mode": {
    "name": "ipython",
    "version": 3
   },
   "file_extension": ".py",
   "mimetype": "text/x-python",
   "name": "python",
   "nbconvert_exporter": "python",
   "pygments_lexer": "ipython3",
   "version": "3.9.12"
  }
 },
 "nbformat": 4,
 "nbformat_minor": 5
}
